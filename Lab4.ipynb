{
 "cells": [
  {
   "cell_type": "markdown",
   "metadata": {},
   "source": [
    "# Lab 4"
   ]
  },
  {
   "cell_type": "code",
   "execution_count": 14,
   "metadata": {},
   "outputs": [
    {
     "name": "stdout",
     "output_type": "stream",
     "text": [
      "Requirement already satisfied: psycopg2 in c:\\programdata\\anaconda3\\lib\\site-packages (2.8.3)\n"
     ]
    }
   ],
   "source": [
    "!pip install psycopg2"
   ]
  },
  {
   "cell_type": "code",
   "execution_count": 15,
   "metadata": {},
   "outputs": [],
   "source": [
    "import pandas\n",
    "import configparser\n",
    "import psycopg2"
   ]
  },
  {
   "cell_type": "code",
   "execution_count": 16,
   "metadata": {},
   "outputs": [
    {
     "data": {
      "text/plain": [
       "['config.ini']"
      ]
     },
     "execution_count": 16,
     "metadata": {},
     "output_type": "execute_result"
    }
   ],
   "source": [
    "config = configparser.ConfigParser()\n",
    "config.read('config.ini')"
   ]
  },
  {
   "cell_type": "code",
   "execution_count": 17,
   "metadata": {},
   "outputs": [],
   "source": [
    "host = config ['myaws']['host']\n",
    "user = config ['myaws']['user']\n",
    "pwd= config ['myaws']['pwd']\n",
    "database = config ['myaws']['database']\n"
   ]
  },
  {
   "cell_type": "code",
   "execution_count": 18,
   "metadata": {},
   "outputs": [],
   "source": [
    "conn = psycopg2.connect(\n",
    "                        host = host,\n",
    "                        user = user,\n",
    "                        password = pwd,\n",
    "                        dbname = database\n",
    "\n",
    ")"
   ]
  },
  {
   "cell_type": "code",
   "execution_count": 19,
   "metadata": {},
   "outputs": [],
   "source": [
    "cur= conn.cursor()"
   ]
  },
  {
   "cell_type": "markdown",
   "metadata": {},
   "source": [
    "##### Q1"
   ]
  },
  {
   "cell_type": "code",
   "execution_count": 20,
   "metadata": {},
   "outputs": [],
   "source": [
    "sql_statement = '''\n",
    "             select * from student_gp9mb\n",
    "             '''"
   ]
  },
  {
   "cell_type": "code",
   "execution_count": 21,
   "metadata": {},
   "outputs": [
    {
     "data": {
      "text/html": [
       "<div>\n",
       "<style scoped>\n",
       "    .dataframe tbody tr th:only-of-type {\n",
       "        vertical-align: middle;\n",
       "    }\n",
       "\n",
       "    .dataframe tbody tr th {\n",
       "        vertical-align: top;\n",
       "    }\n",
       "\n",
       "    .dataframe thead th {\n",
       "        text-align: right;\n",
       "    }\n",
       "</style>\n",
       "<table border=\"1\" class=\"dataframe\">\n",
       "  <thead>\n",
       "    <tr style=\"text-align: right;\">\n",
       "      <th></th>\n",
       "      <th>semail</th>\n",
       "      <th>sname</th>\n",
       "      <th>major</th>\n",
       "    </tr>\n",
       "  </thead>\n",
       "  <tbody>\n",
       "    <tr>\n",
       "      <th>0</th>\n",
       "      <td>marysue@dukes.jmu.edu                         ...</td>\n",
       "      <td>Mary Sue                                      ...</td>\n",
       "      <td>IA                                            ...</td>\n",
       "    </tr>\n",
       "    <tr>\n",
       "      <th>1</th>\n",
       "      <td>johndoe@dukes.jmu.edu                         ...</td>\n",
       "      <td>John Doe                                      ...</td>\n",
       "      <td>IA                                            ...</td>\n",
       "    </tr>\n",
       "    <tr>\n",
       "      <th>2</th>\n",
       "      <td>bobsmith@dukes.jmu.edu                        ...</td>\n",
       "      <td>Bob Smith                                     ...</td>\n",
       "      <td>IA                                            ...</td>\n",
       "    </tr>\n",
       "    <tr>\n",
       "      <th>3</th>\n",
       "      <td>jackjones@dukes.jmu.edu                       ...</td>\n",
       "      <td>Jack Jones                                    ...</td>\n",
       "      <td>IA                                            ...</td>\n",
       "    </tr>\n",
       "    <tr>\n",
       "      <th>4</th>\n",
       "      <td>billyjoe@dukes.jmu.edu                        ...</td>\n",
       "      <td>Billy Joe                                     ...</td>\n",
       "      <td>IA                                            ...</td>\n",
       "    </tr>\n",
       "  </tbody>\n",
       "</table>\n",
       "</div>"
      ],
      "text/plain": [
       "                                              semail  \\\n",
       "0  marysue@dukes.jmu.edu                         ...   \n",
       "1  johndoe@dukes.jmu.edu                         ...   \n",
       "2  bobsmith@dukes.jmu.edu                        ...   \n",
       "3  jackjones@dukes.jmu.edu                       ...   \n",
       "4  billyjoe@dukes.jmu.edu                        ...   \n",
       "\n",
       "                                               sname  \\\n",
       "0  Mary Sue                                      ...   \n",
       "1  John Doe                                      ...   \n",
       "2  Bob Smith                                     ...   \n",
       "3  Jack Jones                                    ...   \n",
       "4  Billy Joe                                     ...   \n",
       "\n",
       "                                               major  \n",
       "0  IA                                            ...  \n",
       "1  IA                                            ...  \n",
       "2  IA                                            ...  \n",
       "3  IA                                            ...  \n",
       "4  IA                                            ...  "
      ]
     },
     "execution_count": 21,
     "metadata": {},
     "output_type": "execute_result"
    }
   ],
   "source": [
    "df = pandas.read_sql_query(sql_statement,conn)\n",
    "df[:]"
   ]
  },
  {
   "cell_type": "markdown",
   "metadata": {},
   "source": [
    "##### Q2"
   ]
  },
  {
   "cell_type": "code",
   "execution_count": 22,
   "metadata": {},
   "outputs": [],
   "source": [
    "sql_statement = '''\n",
    "                select  \n",
    "                cname, count (semail)\n",
    "                from correlation_gp9mb\n",
    "                group by cname\n",
    "                order by count (semail) desc\n",
    "                limit 1\n",
    "            '''\n",
    "# All SQL statements must be displayed as a string, and they can be read by pandas"
   ]
  },
  {
   "cell_type": "code",
   "execution_count": 23,
   "metadata": {},
   "outputs": [
    {
     "data": {
      "text/html": [
       "<div>\n",
       "<style scoped>\n",
       "    .dataframe tbody tr th:only-of-type {\n",
       "        vertical-align: middle;\n",
       "    }\n",
       "\n",
       "    .dataframe tbody tr th {\n",
       "        vertical-align: top;\n",
       "    }\n",
       "\n",
       "    .dataframe thead th {\n",
       "        text-align: right;\n",
       "    }\n",
       "</style>\n",
       "<table border=\"1\" class=\"dataframe\">\n",
       "  <thead>\n",
       "    <tr style=\"text-align: right;\">\n",
       "      <th></th>\n",
       "      <th>cname</th>\n",
       "      <th>count</th>\n",
       "    </tr>\n",
       "  </thead>\n",
       "  <tbody>\n",
       "    <tr>\n",
       "      <th>0</th>\n",
       "      <td>IA261                                         ...</td>\n",
       "      <td>2</td>\n",
       "    </tr>\n",
       "  </tbody>\n",
       "</table>\n",
       "</div>"
      ],
      "text/plain": [
       "                                               cname  count\n",
       "0  IA261                                         ...      2"
      ]
     },
     "execution_count": 23,
     "metadata": {},
     "output_type": "execute_result"
    }
   ],
   "source": [
    "df = pandas.read_sql_query(sql_statement,conn)\n",
    "df[:]"
   ]
  },
  {
   "cell_type": "markdown",
   "metadata": {},
   "source": [
    "##### Q3"
   ]
  },
  {
   "cell_type": "code",
   "execution_count": 36,
   "metadata": {},
   "outputs": [
    {
     "data": {
      "text/html": [
       "<div>\n",
       "<style scoped>\n",
       "    .dataframe tbody tr th:only-of-type {\n",
       "        vertical-align: middle;\n",
       "    }\n",
       "\n",
       "    .dataframe tbody tr th {\n",
       "        vertical-align: top;\n",
       "    }\n",
       "\n",
       "    .dataframe thead th {\n",
       "        text-align: right;\n",
       "    }\n",
       "</style>\n",
       "<table border=\"1\" class=\"dataframe\">\n",
       "  <thead>\n",
       "    <tr style=\"text-align: right;\">\n",
       "      <th></th>\n",
       "      <th>temail</th>\n",
       "      <th>tname</th>\n",
       "      <th>office</th>\n",
       "      <th>cname</th>\n",
       "      <th>room</th>\n",
       "      <th>temail</th>\n",
       "    </tr>\n",
       "  </thead>\n",
       "  <tbody>\n",
       "    <tr>\n",
       "      <th>0</th>\n",
       "      <td>moore8ka@jmu.edu                              ...</td>\n",
       "      <td>Kathleen Moore                                ...</td>\n",
       "      <td>ISAT116</td>\n",
       "      <td>IA 240                                        ...</td>\n",
       "      <td>ISAT301</td>\n",
       "      <td>moore8ka@jmu.edu                              ...</td>\n",
       "    </tr>\n",
       "    <tr>\n",
       "      <th>1</th>\n",
       "      <td>waltontr@jmu.edu                              ...</td>\n",
       "      <td>Timothy Walton                                ...</td>\n",
       "      <td>ISAT326</td>\n",
       "      <td>IA261                                         ...</td>\n",
       "      <td>ISAT350</td>\n",
       "      <td>waltontr@jmu.edu                              ...</td>\n",
       "    </tr>\n",
       "    <tr>\n",
       "      <th>2</th>\n",
       "      <td>taoqx@jmu.edu                                 ...</td>\n",
       "      <td>Tom Tao                                       ...</td>\n",
       "      <td>ENGEO2107</td>\n",
       "      <td>IA312                                         ...</td>\n",
       "      <td>ISAT215</td>\n",
       "      <td>taoqx@jmu.edu                                 ...</td>\n",
       "    </tr>\n",
       "    <tr>\n",
       "      <th>3</th>\n",
       "      <td>weixx@jmu.edu                                 ...</td>\n",
       "      <td>Xeubin Wei                                    ...</td>\n",
       "      <td>ISAT112</td>\n",
       "      <td>IA340                                         ...</td>\n",
       "      <td>ENGEO2010</td>\n",
       "      <td>weixx@jmu.edu                                 ...</td>\n",
       "    </tr>\n",
       "    <tr>\n",
       "      <th>4</th>\n",
       "      <td>grant@jmu.edu                                 ...</td>\n",
       "      <td>Grant                                         ...</td>\n",
       "      <td>123</td>\n",
       "      <td>IA321                                         ...</td>\n",
       "      <td>201</td>\n",
       "      <td>grant@jmu.edu                                 ...</td>\n",
       "    </tr>\n",
       "    <tr>\n",
       "      <th>5</th>\n",
       "      <td>grant@jmu.edu                                 ...</td>\n",
       "      <td>Grant                                         ...</td>\n",
       "      <td>123</td>\n",
       "      <td>IA200                                         ...</td>\n",
       "      <td>ENGEO1204</td>\n",
       "      <td>grant@jmu.edu                                 ...</td>\n",
       "    </tr>\n",
       "    <tr>\n",
       "      <th>6</th>\n",
       "      <td>grant@jmu.edu                                 ...</td>\n",
       "      <td>Grant                                         ...</td>\n",
       "      <td>123</td>\n",
       "      <td>IA300                                         ...</td>\n",
       "      <td>ENGEO1206</td>\n",
       "      <td>grant@jmu.edu                                 ...</td>\n",
       "    </tr>\n",
       "  </tbody>\n",
       "</table>\n",
       "</div>"
      ],
      "text/plain": [
       "                                              temail  \\\n",
       "0  moore8ka@jmu.edu                              ...   \n",
       "1  waltontr@jmu.edu                              ...   \n",
       "2  taoqx@jmu.edu                                 ...   \n",
       "3  weixx@jmu.edu                                 ...   \n",
       "4  grant@jmu.edu                                 ...   \n",
       "5  grant@jmu.edu                                 ...   \n",
       "6  grant@jmu.edu                                 ...   \n",
       "\n",
       "                                               tname                office  \\\n",
       "0  Kathleen Moore                                ...  ISAT116                \n",
       "1  Timothy Walton                                ...  ISAT326                \n",
       "2  Tom Tao                                       ...  ENGEO2107              \n",
       "3  Xeubin Wei                                    ...  ISAT112                \n",
       "4  Grant                                         ...  123                    \n",
       "5  Grant                                         ...  123                    \n",
       "6  Grant                                         ...  123                    \n",
       "\n",
       "                                               cname                  room  \\\n",
       "0  IA 240                                        ...  ISAT301                \n",
       "1  IA261                                         ...  ISAT350                \n",
       "2  IA312                                         ...  ISAT215                \n",
       "3  IA340                                         ...  ENGEO2010              \n",
       "4  IA321                                         ...  201                    \n",
       "5  IA200                                         ...  ENGEO1204              \n",
       "6  IA300                                         ...  ENGEO1206              \n",
       "\n",
       "                                              temail  \n",
       "0  moore8ka@jmu.edu                              ...  \n",
       "1  waltontr@jmu.edu                              ...  \n",
       "2  taoqx@jmu.edu                                 ...  \n",
       "3  weixx@jmu.edu                                 ...  \n",
       "4  grant@jmu.edu                                 ...  \n",
       "5  grant@jmu.edu                                 ...  \n",
       "6  grant@jmu.edu                                 ...  "
      ]
     },
     "execution_count": 36,
     "metadata": {},
     "output_type": "execute_result"
    }
   ],
   "source": [
    "sql_statement2 = '''\n",
    "                select\n",
    "                *\n",
    "                from teacher_gp9mb\n",
    "                inner join course_gp9mb\n",
    "                on teacher_gp9mb.temail = course_gp9mb.temail\n",
    "            '''\n",
    "df = pandas.read_sql_query(sql_statement2,conn)\n",
    "df[:]"
   ]
  },
  {
   "cell_type": "markdown",
   "metadata": {},
   "source": [
    "##### Q4"
   ]
  },
  {
   "cell_type": "code",
   "execution_count": 40,
   "metadata": {},
   "outputs": [
    {
     "data": {
      "text/html": [
       "<div>\n",
       "<style scoped>\n",
       "    .dataframe tbody tr th:only-of-type {\n",
       "        vertical-align: middle;\n",
       "    }\n",
       "\n",
       "    .dataframe tbody tr th {\n",
       "        vertical-align: top;\n",
       "    }\n",
       "\n",
       "    .dataframe thead th {\n",
       "        text-align: right;\n",
       "    }\n",
       "</style>\n",
       "<table border=\"1\" class=\"dataframe\">\n",
       "  <thead>\n",
       "    <tr style=\"text-align: right;\">\n",
       "      <th></th>\n",
       "      <th>tname</th>\n",
       "      <th>course_num</th>\n",
       "    </tr>\n",
       "  </thead>\n",
       "  <tbody>\n",
       "    <tr>\n",
       "      <th>0</th>\n",
       "      <td>Timothy Walton                                ...</td>\n",
       "      <td>1</td>\n",
       "    </tr>\n",
       "    <tr>\n",
       "      <th>1</th>\n",
       "      <td>Kathleen Moore                                ...</td>\n",
       "      <td>1</td>\n",
       "    </tr>\n",
       "    <tr>\n",
       "      <th>2</th>\n",
       "      <td>Tom Tao                                       ...</td>\n",
       "      <td>1</td>\n",
       "    </tr>\n",
       "    <tr>\n",
       "      <th>3</th>\n",
       "      <td>Xeubin Wei                                    ...</td>\n",
       "      <td>1</td>\n",
       "    </tr>\n",
       "    <tr>\n",
       "      <th>4</th>\n",
       "      <td>Grant                                         ...</td>\n",
       "      <td>3</td>\n",
       "    </tr>\n",
       "  </tbody>\n",
       "</table>\n",
       "</div>"
      ],
      "text/plain": [
       "                                               tname  course_num\n",
       "0  Timothy Walton                                ...           1\n",
       "1  Kathleen Moore                                ...           1\n",
       "2  Tom Tao                                       ...           1\n",
       "3  Xeubin Wei                                    ...           1\n",
       "4  Grant                                         ...           3"
      ]
     },
     "execution_count": 40,
     "metadata": {},
     "output_type": "execute_result"
    }
   ],
   "source": [
    "sql_statement3 = '''\n",
    "                select\n",
    "                teacher_gp9mb.tname as tname,\n",
    "                count (course_gp9mb.cname) as course_num\n",
    "                from teacher_gp9mb\n",
    "                inner join course_gp9mb\n",
    "                on teacher_gp9mb.temail = course_gp9mb.temail\n",
    "                group by teacher_gp9mb.tname\n",
    "                '''\n",
    "df = pandas.read_sql_query(sql_statement3,conn)\n",
    "df[:]"
   ]
  },
  {
   "cell_type": "markdown",
   "metadata": {},
   "source": [
    "##### Q5"
   ]
  },
  {
   "cell_type": "code",
   "execution_count": 24,
   "metadata": {},
   "outputs": [
    {
     "name": "stdout",
     "output_type": "stream",
     "text": [
      "\n",
      "                        insert into teacher_gp9mb(temail,tname,office)\n",
      "                        values('new_email','new_name','new_office')\n",
      "                        \n"
     ]
    }
   ],
   "source": [
    "sql_insert_statement = '''\n",
    "                        insert into teacher_gp9mb(temail,tname,office)\n",
    "                        values('{}','{}','{}')\n",
    "                        '''.format ('new_email','new_name','new_office')        # the values are strings, you DO need quotation marks. String means {}\n",
    "print (sql_insert_statement)"
   ]
  },
  {
   "cell_type": "code",
   "execution_count": 25,
   "metadata": {},
   "outputs": [
    {
     "ename": "UniqueViolation",
     "evalue": "duplicate key value violates unique constraint \"teacher_gp9mb_pkey\"\nDETAIL:  Key (temail)=(new_email                                                                                           ) already exists.\n",
     "output_type": "error",
     "traceback": [
      "\u001b[1;31m---------------------------------------------------------------------------\u001b[0m",
      "\u001b[1;31mUniqueViolation\u001b[0m                           Traceback (most recent call last)",
      "\u001b[1;32m<ipython-input-25-aa1d8444be3c>\u001b[0m in \u001b[0;36m<module>\u001b[1;34m()\u001b[0m\n\u001b[1;32m----> 1\u001b[1;33m \u001b[0mcur\u001b[0m\u001b[1;33m.\u001b[0m\u001b[0mexecute\u001b[0m\u001b[1;33m(\u001b[0m\u001b[0msql_insert_statement\u001b[0m\u001b[1;33m)\u001b[0m\u001b[1;33m\u001b[0m\u001b[0m\n\u001b[0m",
      "\u001b[1;31mUniqueViolation\u001b[0m: duplicate key value violates unique constraint \"teacher_gp9mb_pkey\"\nDETAIL:  Key (temail)=(new_email                                                                                           ) already exists.\n"
     ]
    }
   ],
   "source": [
    "cur.execute(sql_insert_statement)"
   ]
  },
  {
   "cell_type": "code",
   "execution_count": 27,
   "metadata": {},
   "outputs": [],
   "source": [
    "conn.commit()"
   ]
  },
  {
   "cell_type": "code",
   "execution_count": 30,
   "metadata": {},
   "outputs": [
    {
     "data": {
      "text/html": [
       "<div>\n",
       "<style scoped>\n",
       "    .dataframe tbody tr th:only-of-type {\n",
       "        vertical-align: middle;\n",
       "    }\n",
       "\n",
       "    .dataframe tbody tr th {\n",
       "        vertical-align: top;\n",
       "    }\n",
       "\n",
       "    .dataframe thead th {\n",
       "        text-align: right;\n",
       "    }\n",
       "</style>\n",
       "<table border=\"1\" class=\"dataframe\">\n",
       "  <thead>\n",
       "    <tr style=\"text-align: right;\">\n",
       "      <th></th>\n",
       "      <th>temail</th>\n",
       "      <th>tname</th>\n",
       "      <th>office</th>\n",
       "    </tr>\n",
       "  </thead>\n",
       "  <tbody>\n",
       "    <tr>\n",
       "      <th>0</th>\n",
       "      <td>weixx@jmu.edu                                 ...</td>\n",
       "      <td>Xeubin Wei                                    ...</td>\n",
       "      <td>ISAT112</td>\n",
       "    </tr>\n",
       "    <tr>\n",
       "      <th>1</th>\n",
       "      <td>moore8ka@jmu.edu                              ...</td>\n",
       "      <td>Kathleen Moore                                ...</td>\n",
       "      <td>ISAT116</td>\n",
       "    </tr>\n",
       "    <tr>\n",
       "      <th>2</th>\n",
       "      <td>waltontr@jmu.edu                              ...</td>\n",
       "      <td>Timothy Walton                                ...</td>\n",
       "      <td>ISAT326</td>\n",
       "    </tr>\n",
       "    <tr>\n",
       "      <th>3</th>\n",
       "      <td>taoqx@jmu.edu                                 ...</td>\n",
       "      <td>Tom Tao                                       ...</td>\n",
       "      <td>ENGEO2107</td>\n",
       "    </tr>\n",
       "    <tr>\n",
       "      <th>4</th>\n",
       "      <td>grant@jmu.edu                                 ...</td>\n",
       "      <td>Grant                                         ...</td>\n",
       "      <td>123</td>\n",
       "    </tr>\n",
       "    <tr>\n",
       "      <th>5</th>\n",
       "      <td>new_email                                     ...</td>\n",
       "      <td>new_name                                      ...</td>\n",
       "      <td>new_office</td>\n",
       "    </tr>\n",
       "  </tbody>\n",
       "</table>\n",
       "</div>"
      ],
      "text/plain": [
       "                                              temail  \\\n",
       "0  weixx@jmu.edu                                 ...   \n",
       "1  moore8ka@jmu.edu                              ...   \n",
       "2  waltontr@jmu.edu                              ...   \n",
       "3  taoqx@jmu.edu                                 ...   \n",
       "4  grant@jmu.edu                                 ...   \n",
       "5  new_email                                     ...   \n",
       "\n",
       "                                               tname                office  \n",
       "0  Xeubin Wei                                    ...  ISAT112               \n",
       "1  Kathleen Moore                                ...  ISAT116               \n",
       "2  Timothy Walton                                ...  ISAT326               \n",
       "3  Tom Tao                                       ...  ENGEO2107             \n",
       "4  Grant                                         ...  123                   \n",
       "5  new_name                                      ...  new_office            "
      ]
     },
     "execution_count": 30,
     "metadata": {},
     "output_type": "execute_result"
    }
   ],
   "source": [
    "df = pandas.read_sql_query('''select * from teacher_gp9mb''',conn)\n",
    "df[:]"
   ]
  },
  {
   "cell_type": "markdown",
   "metadata": {},
   "source": [
    "##### Q6"
   ]
  },
  {
   "cell_type": "code",
   "execution_count": 54,
   "metadata": {},
   "outputs": [],
   "source": [
    "sql_statement4 = '''\n",
    "                update course_gp9mb\n",
    "                set temail = 'grant@jmu.edu'\n",
    "                where temail = 'marrinsp@jmu.edu'\n",
    "                '''\n"
   ]
  },
  {
   "cell_type": "code",
   "execution_count": 55,
   "metadata": {},
   "outputs": [],
   "source": [
    "cur.execute(sql_statement4)"
   ]
  },
  {
   "cell_type": "code",
   "execution_count": 56,
   "metadata": {},
   "outputs": [],
   "source": [
    "conn.commit()"
   ]
  },
  {
   "cell_type": "code",
   "execution_count": 64,
   "metadata": {},
   "outputs": [
    {
     "data": {
      "text/html": [
       "<div>\n",
       "<style scoped>\n",
       "    .dataframe tbody tr th:only-of-type {\n",
       "        vertical-align: middle;\n",
       "    }\n",
       "\n",
       "    .dataframe tbody tr th {\n",
       "        vertical-align: top;\n",
       "    }\n",
       "\n",
       "    .dataframe thead th {\n",
       "        text-align: right;\n",
       "    }\n",
       "</style>\n",
       "<table border=\"1\" class=\"dataframe\">\n",
       "  <thead>\n",
       "    <tr style=\"text-align: right;\">\n",
       "      <th></th>\n",
       "      <th>cname</th>\n",
       "      <th>room</th>\n",
       "      <th>temail</th>\n",
       "    </tr>\n",
       "  </thead>\n",
       "  <tbody>\n",
       "    <tr>\n",
       "      <th>0</th>\n",
       "      <td>IA 240                                        ...</td>\n",
       "      <td>ISAT301</td>\n",
       "      <td>moore8ka@jmu.edu                              ...</td>\n",
       "    </tr>\n",
       "    <tr>\n",
       "      <th>1</th>\n",
       "      <td>IA261                                         ...</td>\n",
       "      <td>ISAT350</td>\n",
       "      <td>waltontr@jmu.edu                              ...</td>\n",
       "    </tr>\n",
       "    <tr>\n",
       "      <th>2</th>\n",
       "      <td>IA312                                         ...</td>\n",
       "      <td>ISAT215</td>\n",
       "      <td>taoqx@jmu.edu                                 ...</td>\n",
       "    </tr>\n",
       "    <tr>\n",
       "      <th>3</th>\n",
       "      <td>IA340                                         ...</td>\n",
       "      <td>ENGEO2010</td>\n",
       "      <td>weixx@jmu.edu                                 ...</td>\n",
       "    </tr>\n",
       "    <tr>\n",
       "      <th>4</th>\n",
       "      <td>IA321                                         ...</td>\n",
       "      <td>201</td>\n",
       "      <td>grant@jmu.edu                                 ...</td>\n",
       "    </tr>\n",
       "    <tr>\n",
       "      <th>5</th>\n",
       "      <td>IA200                                         ...</td>\n",
       "      <td>ENGEO1204</td>\n",
       "      <td>grant@jmu.edu                                 ...</td>\n",
       "    </tr>\n",
       "    <tr>\n",
       "      <th>6</th>\n",
       "      <td>IA300                                         ...</td>\n",
       "      <td>ENGEO1206</td>\n",
       "      <td>grant@jmu.edu                                 ...</td>\n",
       "    </tr>\n",
       "  </tbody>\n",
       "</table>\n",
       "</div>"
      ],
      "text/plain": [
       "                                               cname                  room  \\\n",
       "0  IA 240                                        ...  ISAT301                \n",
       "1  IA261                                         ...  ISAT350                \n",
       "2  IA312                                         ...  ISAT215                \n",
       "3  IA340                                         ...  ENGEO2010              \n",
       "4  IA321                                         ...  201                    \n",
       "5  IA200                                         ...  ENGEO1204              \n",
       "6  IA300                                         ...  ENGEO1206              \n",
       "\n",
       "                                              temail  \n",
       "0  moore8ka@jmu.edu                              ...  \n",
       "1  waltontr@jmu.edu                              ...  \n",
       "2  taoqx@jmu.edu                                 ...  \n",
       "3  weixx@jmu.edu                                 ...  \n",
       "4  grant@jmu.edu                                 ...  \n",
       "5  grant@jmu.edu                                 ...  \n",
       "6  grant@jmu.edu                                 ...  "
      ]
     },
     "execution_count": 64,
     "metadata": {},
     "output_type": "execute_result"
    }
   ],
   "source": [
    "df = pandas.read_sql_query('''select * from course_gp9mb''',conn)\n",
    "df[:]"
   ]
  },
  {
   "cell_type": "code",
   "execution_count": 67,
   "metadata": {},
   "outputs": [],
   "source": [
    "sql_statement5= '''\n",
    "                delete from teacher_gp9mb\n",
    "                where temail = 'marrinsp@jmu.edu'\n",
    "                '''"
   ]
  },
  {
   "cell_type": "code",
   "execution_count": 68,
   "metadata": {},
   "outputs": [],
   "source": [
    "cur.execute(sql_statement5)"
   ]
  },
  {
   "cell_type": "code",
   "execution_count": 69,
   "metadata": {},
   "outputs": [],
   "source": [
    "conn.commit()"
   ]
  },
  {
   "cell_type": "code",
   "execution_count": 70,
   "metadata": {},
   "outputs": [
    {
     "data": {
      "text/html": [
       "<div>\n",
       "<style scoped>\n",
       "    .dataframe tbody tr th:only-of-type {\n",
       "        vertical-align: middle;\n",
       "    }\n",
       "\n",
       "    .dataframe tbody tr th {\n",
       "        vertical-align: top;\n",
       "    }\n",
       "\n",
       "    .dataframe thead th {\n",
       "        text-align: right;\n",
       "    }\n",
       "</style>\n",
       "<table border=\"1\" class=\"dataframe\">\n",
       "  <thead>\n",
       "    <tr style=\"text-align: right;\">\n",
       "      <th></th>\n",
       "      <th>temail</th>\n",
       "      <th>tname</th>\n",
       "      <th>office</th>\n",
       "    </tr>\n",
       "  </thead>\n",
       "  <tbody>\n",
       "    <tr>\n",
       "      <th>0</th>\n",
       "      <td>weixx@jmu.edu                                 ...</td>\n",
       "      <td>Xeubin Wei                                    ...</td>\n",
       "      <td>ISAT112</td>\n",
       "    </tr>\n",
       "    <tr>\n",
       "      <th>1</th>\n",
       "      <td>moore8ka@jmu.edu                              ...</td>\n",
       "      <td>Kathleen Moore                                ...</td>\n",
       "      <td>ISAT116</td>\n",
       "    </tr>\n",
       "    <tr>\n",
       "      <th>2</th>\n",
       "      <td>waltontr@jmu.edu                              ...</td>\n",
       "      <td>Timothy Walton                                ...</td>\n",
       "      <td>ISAT326</td>\n",
       "    </tr>\n",
       "    <tr>\n",
       "      <th>3</th>\n",
       "      <td>taoqx@jmu.edu                                 ...</td>\n",
       "      <td>Tom Tao                                       ...</td>\n",
       "      <td>ENGEO2107</td>\n",
       "    </tr>\n",
       "    <tr>\n",
       "      <th>4</th>\n",
       "      <td>grant@jmu.edu                                 ...</td>\n",
       "      <td>Grant                                         ...</td>\n",
       "      <td>123</td>\n",
       "    </tr>\n",
       "    <tr>\n",
       "      <th>5</th>\n",
       "      <td>new_email                                     ...</td>\n",
       "      <td>new_name                                      ...</td>\n",
       "      <td>new_office</td>\n",
       "    </tr>\n",
       "  </tbody>\n",
       "</table>\n",
       "</div>"
      ],
      "text/plain": [
       "                                              temail  \\\n",
       "0  weixx@jmu.edu                                 ...   \n",
       "1  moore8ka@jmu.edu                              ...   \n",
       "2  waltontr@jmu.edu                              ...   \n",
       "3  taoqx@jmu.edu                                 ...   \n",
       "4  grant@jmu.edu                                 ...   \n",
       "5  new_email                                     ...   \n",
       "\n",
       "                                               tname                office  \n",
       "0  Xeubin Wei                                    ...  ISAT112               \n",
       "1  Kathleen Moore                                ...  ISAT116               \n",
       "2  Timothy Walton                                ...  ISAT326               \n",
       "3  Tom Tao                                       ...  ENGEO2107             \n",
       "4  Grant                                         ...  123                   \n",
       "5  new_name                                      ...  new_office            "
      ]
     },
     "execution_count": 70,
     "metadata": {},
     "output_type": "execute_result"
    }
   ],
   "source": [
    "df = pandas.read_sql_query('''select * from teacher_gp9mb''',conn)\n",
    "df[:]"
   ]
  },
  {
   "cell_type": "code",
   "execution_count": null,
   "metadata": {},
   "outputs": [],
   "source": []
  }
 ],
 "metadata": {
  "kernelspec": {
   "display_name": "Python 3",
   "language": "python",
   "name": "python3"
  },
  "language_info": {
   "codemirror_mode": {
    "name": "ipython",
    "version": 3
   },
   "file_extension": ".py",
   "mimetype": "text/x-python",
   "name": "python",
   "nbconvert_exporter": "python",
   "pygments_lexer": "ipython3",
   "version": "3.6.5"
  }
 },
 "nbformat": 4,
 "nbformat_minor": 2
}
